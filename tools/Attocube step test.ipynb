{
 "cells": [
  {
   "cell_type": "markdown",
   "metadata": {},
   "source": [
    "# Calibration of attocube stages"
   ]
  },
  {
   "cell_type": "markdown",
   "metadata": {},
   "source": [
    "x stages:"
   ]
  },
  {
   "cell_type": "code",
   "execution_count": 1,
   "metadata": {
    "collapsed": false
   },
   "outputs": [],
   "source": [
    "import time\n",
    "import numpy as np\n",
    "import matplotlib.pyplot as plt"
   ]
  },
  {
   "cell_type": "code",
   "execution_count": 16,
   "metadata": {
    "collapsed": false
   },
   "outputs": [],
   "source": [
    "mean = []\n",
    "std = []\n",
    "\n",
    "mean_f = []\n",
    "std_f = []\n",
    "\n",
    "mean_b = []\n",
    "std_b = []\n",
    "\n",
    "\n",
    "voltage = [5,10,15,20,25,30,35,40,45,50,55,60]\n",
    "for v in voltage:\n",
    "    attocube.set_amplitude('x',v)\n",
    "    attocube.set_frequency('x',1000)\n",
    "    x_pos = attocube.get_scanner_position_abs()[1]*1e6\n",
    "    xpos = [x_pos]\n",
    "\n",
    "    for i in range(5):\n",
    "        for i in range(10):\n",
    "            time.sleep(0.1)\n",
    "            attocube.single_step('x','forward')\n",
    "        time.sleep(1)\n",
    "        xpos.append(attocube.get_scanner_position_abs()[1]*1e6)\n",
    "    \n",
    "        for i in range(5):\n",
    "            time.sleep(0.1)\n",
    "            attocube.single_step('x','backward')\n",
    "        time.sleep(1)\n",
    "        xpos.append(attocube.get_scanner_position_abs()[1]*1e6)    \n",
    "    \n",
    "    step_sizes = np.abs(np.diff(xpos))\n",
    "    step_sizes_f = np.abs(np.diff(xpos[0:5]))\n",
    "    step_sizes_b = np.abs(np.diff(xpos[5:10]))\n",
    "\n",
    "    mean.append(step_sizes.mean())\n",
    "    std.append(step_sizes.std())\n",
    "    \n",
    "    mean_f.append(step_sizes_f.mean())\n",
    "    std_f.append(step_sizes_f.std())\n",
    "    \n",
    "    mean_b.append(step_sizes_b.mean())\n",
    "    std_b.append(step_sizes_b.std())\n",
    "    \n"
   ]
  },
  {
   "cell_type": "code",
   "execution_count": 17,
   "metadata": {
    "collapsed": false
   },
   "outputs": [
    {
     "data": {
      "image/png": "[encoded data removed]"
     },
     "metadata": {
      "image/png": {
       "height": 368,
       "width": 539
      }
     },
     "output_type": "display_data"
    }
   ],
   "source": [
    "#plt.plot(step_sizes)\n",
    "plt.errorbar(voltage,mean,std)\n",
    "plt.errorbar(voltage,mean_f,std_f)\n",
    "plt.errorbar(voltage,mean_b,std_b)\n",
    "plt.show()"
   ]
  },
  {
   "cell_type": "code",
   "execution_count": null,
   "metadata": {
    "collapsed": true
   },
   "outputs": [],
   "source": [
    "mynicard2.close_scanner()\n",
    "mynicard2.close_scanner_clock()"
   ]
  },
  {
   "cell_type": "code",
   "execution_count": 2,
   "metadata": {
    "collapsed": false
   },
   "outputs": [
    {
     "data": {
      "text/plain": [
       "0"
      ]
     },
     "execution_count": 2,
     "metadata": {},
     "output_type": "execute_result"
    }
   ],
   "source": [
    "mynicard2.set_up_scanner_clock(clock_frequency=10)\n",
    "mynicard2.set_up_scanner()"
   ]
  },
  {
   "cell_type": "code",
   "execution_count": null,
   "metadata": {
    "collapsed": true
   },
   "outputs": [],
   "source": []
  },
  {
   "cell_type": "code",
   "execution_count": 3,
   "metadata": {
    "collapsed": false
   },
   "outputs": [],
   "source": [
    "x = np.linspace(0,5,5)\n",
    "x_b = np.linspace(5,0,5)\n",
    "y = np.linspace(0,0,5)\n",
    "z = np.linspace(0,0,5)\n",
    "counts = np.zeros_like(x)\n",
    "\n",
    "line= np.array([x,y,z,counts])\n",
    "line_back= np.array([x_b,y,z,counts])\n"
   ]
  },
  {
   "cell_type": "code",
   "execution_count": 5,
   "metadata": {
    "collapsed": false
   },
   "outputs": [],
   "source": [
    "mean = []\n",
    "std = []\n",
    "\n",
    "mean_f = []\n",
    "std_f = []\n",
    "\n",
    "mean_b = []\n",
    "std_b = []\n",
    "\n",
    "\n",
    "voltage = [5,10,15,20,25,30,35,40,45,50,55,60]\n",
    "voltage = [5,10]\n",
    "for v in voltage:\n",
    "    attocube.set_amplitude('x',v)\n",
    "    attocube.set_frequency('x',1000)\n",
    "    x_pos = attocube.get_scanner_position_abs()[1]*1e6\n",
    "    xpos = [x_pos]\n",
    "\n",
    "    for i in range(5):\n",
    "        mynicard2.scan_line(line)\n",
    "        time.sleep(1)\n",
    "        xpos.append(attocube.get_scanner_position_abs()[1]*1e6)\n",
    "        \n",
    "    \n",
    "        mynicard2.scan_line(line_back)\n",
    "        time.sleep(1)\n",
    "        xpos.append(attocube.get_scanner_position_abs()[1]*1e6)    \n",
    "    \n",
    "    step_sizes = np.abs(np.diff(xpos))\n",
    "    step_sizes_f = np.abs(np.diff(xpos[0:5]))\n",
    "    step_sizes_b = np.abs(np.diff(xpos[5:10]))\n",
    "\n",
    "    mean.append(step_sizes.mean())\n",
    "    std.append(step_sizes.std())\n",
    "    \n",
    "    mean_f.append(step_sizes_f.mean())\n",
    "    std_f.append(step_sizes_f.std())\n",
    "    \n",
    "    mean_b.append(step_sizes_b.mean())\n",
    "    std_b.append(step_sizes_b.std())\n",
    "    "
   ]
  },
  {
   "cell_type": "code",
   "execution_count": 10,
   "metadata": {
    "collapsed": false
   },
   "outputs": [
    {
     "data": {
      "image/png": "[encoded data removed]"
     },
     "metadata": {
      "image/png": {
       "height": 368,
       "width": 551
      }
     },
     "output_type": "display_data"
    }
   ],
   "source": [
    "plt.errorbar(voltage,mean,std)\n",
    "plt.errorbar(voltage,mean_f,std_f)\n",
    "plt.errorbar(voltage,mean_b,std_b)\n",
    "plt.show()"
   ]
  },
  {
   "cell_type": "code",
   "execution_count": null,
   "metadata": {
    "collapsed": true
   },
   "outputs": [],
   "source": []
  },
  {
   "cell_type": "code",
   "execution_count": 6,
   "metadata": {
    "collapsed": false
   },
   "outputs": [
    {
     "data": {
      "text/plain": [
       "array([[ 0.],\n",
       "       [ 0.],\n",
       "       [ 0.],\n",
       "       [ 0.],\n",
       "       [ 0.]])"
      ]
     },
     "execution_count": 6,
     "metadata": {},
     "output_type": "execute_result"
    }
   ],
   "source": [
    "mynicard2.scan_line(line)"
   ]
  },
  {
   "cell_type": "code",
   "execution_count": 7,
   "metadata": {
    "collapsed": false
   },
   "outputs": [
    {
     "data": {
      "text/plain": [
       "array([[ 0.],\n",
       "       [ 0.],\n",
       "       [ 0.],\n",
       "       [ 0.],\n",
       "       [ 0.]])"
      ]
     },
     "execution_count": 7,
     "metadata": {},
     "output_type": "execute_result"
    }
   ],
   "source": [
    "mynicard2.scan_line(line_back)"
   ]
  },
  {
   "cell_type": "code",
   "execution_count": null,
   "metadata": {
    "collapsed": true
   },
   "outputs": [],
   "source": []
  }
 ],
 "metadata": {
  "anaconda-cloud": {},
  "kernelspec": {
   "display_name": "Qudi",
   "language": "python",
   "name": "qudi"
  },
  "language_info": {
   "codemirror_mode": {
    "name": "ipython",
    "version": "3.4.5"
   },
   "file_extension": ".py",
   "mimetype": "text/x-python",
   "name": "python",
   "nbconvert_exporter": "python",
   "pygments_lexer": "ipython3",
   "version": "3.4.5"
  }
 },
 "nbformat": 4,
 "nbformat_minor": 1
}
